{
 "cells": [
  {
   "cell_type": "markdown",
   "id": "42eb4b31-f845-48e6-ba27-8a2bd3c5e5b5",
   "metadata": {},
   "source": [
    "# H1: Data Science Tools and Ecosystem"
   ]
  },
  {
   "cell_type": "markdown",
   "id": "11ca02dc-24bf-41e0-b1eb-47ab8d353985",
   "metadata": {},
   "source": [
    "In this notebook, Data Science Tools and Ecosystem are summarized."
   ]
  },
  {
   "cell_type": "markdown",
   "id": "e2844073-6d18-4f13-8b6a-884fcde7a74e",
   "metadata": {},
   "source": [
    "Some of the popular languages that Data Scientists use are:\n",
    "1. python\n",
    "2. R\n",
    "3. Julia\n",
    "4. Java Script\n",
    "5. C\n",
    "6. C++"
   ]
  },
  {
   "cell_type": "markdown",
   "id": "e4f8e257-39b5-4cfa-9ebf-b2d62d734c11",
   "metadata": {},
   "source": [
    "**Objectives:**\n",
    "+ Data Science Tools and Ecosystem\n",
    "+ Popular languages used by Data Scientists\n",
    "+ Commonly libraries used by Data Scientists"
   ]
  },
  {
   "cell_type": "markdown",
   "id": "7953b5fa-dc8c-488b-a41e-495482b72e02",
   "metadata": {},
   "source": [
    "Some of the commonly used libraries used by Data Scientists include:\n",
    "1. Numpy\n",
    "2. Pandas\n",
    "3. Matplotlib\n",
    "4. Seaborn\n",
    "5. Scikit learn\n",
    "6. Scipy"
   ]
  },
  {
   "cell_type": "markdown",
   "id": "ec2baaf4-4106-4736-a63d-53f0536103b6",
   "metadata": {},
   "source": [
    "|# H6: Data Science Tools |\n",
    "| -------------------|\n",
    "| Jupyter Notebook |\n",
    "| R Studio|\n",
    "| Github|"
   ]
  },
  {
   "cell_type": "markdown",
   "id": "04864e41-2c10-4fda-a8f6-da2e7b5aa5f1",
   "metadata": {},
   "source": [
    "# H3: Below are a few examples of evaluating arithmetic expressions in python."
   ]
  },
  {
   "cell_type": "code",
   "execution_count": 1,
   "id": "2af80aaf-4753-4ee7-b846-175c6f928c70",
   "metadata": {
    "tags": []
   },
   "outputs": [
    {
     "data": {
      "text/plain": [
       "17"
      ]
     },
     "execution_count": 1,
     "metadata": {},
     "output_type": "execute_result"
    }
   ],
   "source": [
    "#This a simple arithmetic expression to mutiply then add integers\n",
    "(3*4)+5\n"
   ]
  },
  {
   "cell_type": "code",
   "execution_count": 2,
   "id": "4a47e95a-9655-4878-ab65-4d8552589a3a",
   "metadata": {
    "tags": []
   },
   "outputs": [
    {
     "data": {
      "text/plain": [
       "3.3333333333333335"
      ]
     },
     "execution_count": 2,
     "metadata": {},
     "output_type": "execute_result"
    }
   ],
   "source": [
    "#This will convert 200 minutes to hours by diving by 60\n",
    "200/60"
   ]
  },
  {
   "cell_type": "markdown",
   "id": "a006caab-3f8c-4b3a-90cc-601be55592bf",
   "metadata": {},
   "source": [
    "# H2 Author\n",
    "L.L Aliyu"
   ]
  },
  {
   "cell_type": "code",
   "execution_count": null,
   "id": "4996c626-277b-40d0-81b4-228d5d67cc9a",
   "metadata": {},
   "outputs": [],
   "source": []
  }
 ],
 "metadata": {
  "kernelspec": {
   "display_name": "Python",
   "language": "python",
   "name": "conda-env-python-py"
  },
  "language_info": {
   "codemirror_mode": {
    "name": "ipython",
    "version": 3
   },
   "file_extension": ".py",
   "mimetype": "text/x-python",
   "name": "python",
   "nbconvert_exporter": "python",
   "pygments_lexer": "ipython3",
   "version": "3.7.12"
  }
 },
 "nbformat": 4,
 "nbformat_minor": 5
}
